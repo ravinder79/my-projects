{
 "cells": [
  {
   "cell_type": "markdown",
   "metadata": {},
   "source": [
    "Input from Manufacturers:\n",
    "\n",
    "Different vehicle/emissions families:\n",
    "Projected or actual sales volumes by emissions family\n",
    "Emissions level/bin for each vehicle emissions family\n",
    "Timeline of emissions phase-in\n",
    "\n",
    "Input from regulations:\n",
    "Emissions standards\n",
    "Emissions phase-in schedule\n",
    "Credit calculations\n"
   ]
  }
 ],
 "metadata": {
  "kernelspec": {
   "display_name": "Python 3",
   "language": "python",
   "name": "python3"
  },
  "language_info": {
   "codemirror_mode": {
    "name": "ipython",
    "version": 3
   },
   "file_extension": ".py",
   "mimetype": "text/x-python",
   "name": "python",
   "nbconvert_exporter": "python",
   "pygments_lexer": "ipython3",
   "version": "3.7.4"
  }
 },
 "nbformat": 4,
 "nbformat_minor": 2
}
